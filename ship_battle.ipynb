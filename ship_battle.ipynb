{
  "nbformat": 4,
  "nbformat_minor": 0,
  "metadata": {
    "colab": {
      "provenance": []
    },
    "kernelspec": {
      "name": "python3",
      "display_name": "Python 3"
    },
    "language_info": {
      "name": "python"
    }
  },
  "cells": [
    {
      "cell_type": "code",
      "source": [
        "import random\n",
        "\n",
        "board_size = 5\n",
        "num_ships = 2\n",
        "max_turns = 7\n",
        "ships = []\n",
        "\n",
        "# 1. Oyun tahtasını oluşturun\n",
        "board = []\n",
        "for x in range(board_size):\n",
        "    board.append([\"O\"] * board_size)\n",
        "\n",
        "# 2. Gemileri yerleştirin\n",
        "for i in range(num_ships):\n",
        "    ship_row = random.randint(0, board_size - 1)\n",
        "    ship_col = random.randint(0, board_size - 1)\n",
        "    ships.append([ship_row, ship_col])\n",
        "\n",
        "# 3. Oyuncudan hamle isteyin\n",
        "for turn in range(max_turns):\n",
        "    print(f\"Turn {turn + 1}\")\n",
        "    print_board(board)\n",
        "    guess_row = int(input(\"Guess Row (0-4): \"))\n",
        "    guess_col = int(input(\"Guess Col (0-4): \"))\n",
        "\n",
        "    # 4. Hamle sonucunu gösterin\n",
        "    if [guess_row, guess_col] in ships:\n",
        "        print(\"Congratulations! You sank a ship!\")\n",
        "        board[guess_row][guess_col] = \"X\"\n",
        "    else:\n",
        "        if guess_row not in range(board_size) or \\\n",
        "            guess_col not in range(board_size):\n",
        "            print(\"Oops, that's not even in the ocean.\")\n",
        "        elif board[guess_row][guess_col] == \"X\":\n",
        "            print(\"You guessed that one already.\")\n",
        "        else:\n",
        "            print(\"You missed the battleship!\")\n",
        "            board[guess_row][guess_col] = \"X\"\n",
        "\n",
        "    # 5. Oyun bitiş koşulunu belirleyin\n",
        "    if turn == max_turns - 1:\n",
        "        print(\"Game Over\")\n",
        "        print(f\"Ships were located at {ships}\")\n",
        "        break\n",
        "\n",
        "    if not any(\"O\" in row for row in board):\n",
        "        print(\"Game Over\")\n",
        "        print(\"You win!\")\n",
        "        break\n",
        "\n",
        "def print_board(board):\n",
        "    for row in board:\n",
        "        print(\" \".join(row))"
      ],
      "metadata": {
        "colab": {
          "base_uri": "https://localhost:8080/"
        },
        "id": "MSrJMnuxmAfJ",
        "outputId": "722b1a89-e440-4d7a-edb6-19dfc25ebea7"
      },
      "execution_count": null,
      "outputs": [
        {
          "output_type": "stream",
          "name": "stdout",
          "text": [
            "Turn 1\n",
            "O O O O O\n",
            "O O O O O\n",
            "O O O O O\n",
            "O O O O O\n",
            "O O O O O\n"
          ]
        }
      ]
    }
  ]
}